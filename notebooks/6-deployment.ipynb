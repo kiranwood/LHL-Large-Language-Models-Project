{
 "cells": [
  {
   "cell_type": "markdown",
   "metadata": {},
   "source": [
    "# **Deloyment Steps**"
   ]
  },
  {
   "cell_type": "markdown",
   "metadata": {},
   "source": [
    "These are the steps that could be taken if this model was to be deployed in a real life setting.\n",
    "\n",
    "**Fine Tune Model**\n",
    "- This model would still need a lot of time to be fine tuned and optimized\n",
    "- Look into prompt tuning for this model\n",
    "\n",
    "**Evaluate Model**\n",
    "- Next this model can be tested on different new similar data that is not related to the train/test data\n",
    "- Identify if there are any issues/bias with the model\n",
    "\n",
    "**Preparing Deployment**\n",
    "- Choosing which deployment environment work for the model. Looking into possibly something cloud based.\n",
    "\n",
    "**DevOps/MLOps**\n",
    "- Work with DevOps/MLOps if avaiable for a smooth deployment\n",
    "\n",
    "**Security**\n",
    "- Implement proper security for the model\n",
    "- Publish usage guidelines and terms of use\n",
    "\n",
    "**Deployment**\n",
    "- Deploy the model \n",
    "- Test to make sure that everything is working\n",
    "\n",
    "**Monitoring**\n",
    "- Continously monitor to see how well the model is doing after deployment\n",
    "- Fix any issues that arrise\n",
    "- Update model to new data as time goes on\n",
    "\n",
    "**Feedback**\n",
    "- Gather feedback from users \n",
    "- Use the feedback to update and improve the model\n",
    "- Continue to gather feedback to make improvements \n"
   ]
  },
  {
   "cell_type": "markdown",
   "metadata": {},
   "source": [
    "# **Ethics**"
   ]
  },
  {
   "cell_type": "markdown",
   "metadata": {},
   "source": [
    "Due to this project being used for learning purposes, it wasn't done with ethics in mind. Although in a real world setting, ethics is very important to keep in mind in all aspects of creating a model. Here are some ethics that could be taken if this project was to be in a real life situation:\n",
    "\n",
    "- Making sure to source my data ethically\n",
    "- Avoiding bias such as making sure to get variety of different genres of movies / movies based from different locations across the world\n",
    "- Insuring the intended use and impact are ethical\n",
    "- Looking and testing for potential bias during evaluation stage \n",
    "- Being transparent about the model and any issues it may have"
   ]
  }
 ],
 "metadata": {
  "language_info": {
   "name": "python"
  },
  "orig_nbformat": 4
 },
 "nbformat": 4,
 "nbformat_minor": 2
}
